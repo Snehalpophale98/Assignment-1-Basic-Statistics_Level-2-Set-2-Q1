{
 "cells": [
  {
   "cell_type": "code",
   "execution_count": null,
   "id": "f21d922a",
   "metadata": {},
   "outputs": [],
   "source": [
    "The time required for servicing transmissions is normally distributed with μ = 45 minutes and σ = 8 minutes. \n",
    "The service manager plans to have work begin on the transmission of a customer’s car 10 minutes after \n",
    "the car is dropped off and the customer \n",
    "is told that the car will be ready within 1 hour from drop-off. \n",
    "What is the probability that the service manager cannot meet his commitment?"
   ]
  },
  {
   "cell_type": "code",
   "execution_count": null,
   "id": "ee7cb854",
   "metadata": {},
   "outputs": [],
   "source": [
    "from scipy import stats\n",
    "1 - stats.norm.cdf(50,45,8)"
   ]
  }
 ],
 "metadata": {
  "kernelspec": {
   "display_name": "Python 3 (ipykernel)",
   "language": "python",
   "name": "python3"
  },
  "language_info": {
   "codemirror_mode": {
    "name": "ipython",
    "version": 3
   },
   "file_extension": ".py",
   "mimetype": "text/x-python",
   "name": "python",
   "nbconvert_exporter": "python",
   "pygments_lexer": "ipython3",
   "version": "3.9.12"
  }
 },
 "nbformat": 4,
 "nbformat_minor": 5
}
